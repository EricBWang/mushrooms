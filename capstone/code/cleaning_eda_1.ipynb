{
 "cells": [
  {
   "cell_type": "code",
   "execution_count": 138,
   "id": "6d10b4f9",
   "metadata": {},
   "outputs": [],
   "source": [
    "# Imports\n",
    "import pandas as pd\n",
    "import matplotlib.pyplot as plt\n",
    "import seaborn as sns\n",
    "import scipy.stats as ss \n",
    "import math\n",
    "from collections import Counter"
   ]
  },
  {
   "cell_type": "markdown",
   "id": "3ebc4bc1",
   "metadata": {},
   "source": [
    "The dataset used in this notebook can be found at https://mushroom.mathematik.uni-marburg.de/files/."
   ]
  },
  {
   "cell_type": "code",
   "execution_count": 139,
   "id": "92921bd2",
   "metadata": {},
   "outputs": [],
   "source": [
    "# Reading in the dataset\n",
    "df = pd.read_csv(\"../data/secondary_data_generated.csv\")"
   ]
  },
  {
   "cell_type": "markdown",
   "id": "9143cad7",
   "metadata": {},
   "source": [
    "# Cleaning"
   ]
  },
  {
   "cell_type": "code",
   "execution_count": 140,
   "id": "a6f22a4a",
   "metadata": {},
   "outputs": [
    {
     "data": {
      "text/html": [
       "<div>\n",
       "<style scoped>\n",
       "    .dataframe tbody tr th:only-of-type {\n",
       "        vertical-align: middle;\n",
       "    }\n",
       "\n",
       "    .dataframe tbody tr th {\n",
       "        vertical-align: top;\n",
       "    }\n",
       "\n",
       "    .dataframe thead th {\n",
       "        text-align: right;\n",
       "    }\n",
       "</style>\n",
       "<table border=\"1\" class=\"dataframe\">\n",
       "  <thead>\n",
       "    <tr style=\"text-align: right;\">\n",
       "      <th></th>\n",
       "      <th>class;cap-diameter;cap-shape;cap-surface;cap-color;does-bruise-or-bleed;gill-attachment;gill-spacing;gill-color;stem-height;stem-width;stem-root;stem-surface;stem-color;veil-type;veil-color;has-ring;ring-type;spore-print-color;habitat;season</th>\n",
       "    </tr>\n",
       "  </thead>\n",
       "  <tbody>\n",
       "    <tr>\n",
       "      <th>0</th>\n",
       "      <td>p;15.26;x;g;o;f;e;;w;16.95;17.09;s;y;w;u;w;t;g...</td>\n",
       "    </tr>\n",
       "    <tr>\n",
       "      <th>1</th>\n",
       "      <td>p;16.6;x;g;o;f;e;;w;17.99;18.19;s;y;w;u;w;t;g;...</td>\n",
       "    </tr>\n",
       "    <tr>\n",
       "      <th>2</th>\n",
       "      <td>p;14.07;x;g;o;f;e;;w;17.8;17.74;s;y;w;u;w;t;g;...</td>\n",
       "    </tr>\n",
       "    <tr>\n",
       "      <th>3</th>\n",
       "      <td>p;14.17;f;h;e;f;e;;w;15.77;15.98;s;y;w;u;w;t;p...</td>\n",
       "    </tr>\n",
       "    <tr>\n",
       "      <th>4</th>\n",
       "      <td>p;14.64;x;h;o;f;e;;w;16.53;17.2;s;y;w;u;w;t;p;...</td>\n",
       "    </tr>\n",
       "  </tbody>\n",
       "</table>\n",
       "</div>"
      ],
      "text/plain": [
       "  class;cap-diameter;cap-shape;cap-surface;cap-color;does-bruise-or-bleed;gill-attachment;gill-spacing;gill-color;stem-height;stem-width;stem-root;stem-surface;stem-color;veil-type;veil-color;has-ring;ring-type;spore-print-color;habitat;season\n",
       "0  p;15.26;x;g;o;f;e;;w;16.95;17.09;s;y;w;u;w;t;g...                                                                                                                                                                                               \n",
       "1  p;16.6;x;g;o;f;e;;w;17.99;18.19;s;y;w;u;w;t;g;...                                                                                                                                                                                               \n",
       "2  p;14.07;x;g;o;f;e;;w;17.8;17.74;s;y;w;u;w;t;g;...                                                                                                                                                                                               \n",
       "3  p;14.17;f;h;e;f;e;;w;15.77;15.98;s;y;w;u;w;t;p...                                                                                                                                                                                               \n",
       "4  p;14.64;x;h;o;f;e;;w;16.53;17.2;s;y;w;u;w;t;p;...                                                                                                                                                                                               "
      ]
     },
     "execution_count": 140,
     "metadata": {},
     "output_type": "execute_result"
    }
   ],
   "source": [
    "df.head()"
   ]
  },
  {
   "cell_type": "code",
   "execution_count": 141,
   "id": "441a7576",
   "metadata": {
    "scrolled": true
   },
   "outputs": [
    {
     "data": {
      "text/html": [
       "<div>\n",
       "<style scoped>\n",
       "    .dataframe tbody tr th:only-of-type {\n",
       "        vertical-align: middle;\n",
       "    }\n",
       "\n",
       "    .dataframe tbody tr th {\n",
       "        vertical-align: top;\n",
       "    }\n",
       "\n",
       "    .dataframe thead th {\n",
       "        text-align: right;\n",
       "    }\n",
       "</style>\n",
       "<table border=\"1\" class=\"dataframe\">\n",
       "  <thead>\n",
       "    <tr style=\"text-align: right;\">\n",
       "      <th></th>\n",
       "      <th>0</th>\n",
       "      <th>1</th>\n",
       "      <th>2</th>\n",
       "      <th>3</th>\n",
       "      <th>4</th>\n",
       "      <th>5</th>\n",
       "      <th>6</th>\n",
       "      <th>7</th>\n",
       "      <th>8</th>\n",
       "      <th>9</th>\n",
       "      <th>...</th>\n",
       "      <th>11</th>\n",
       "      <th>12</th>\n",
       "      <th>13</th>\n",
       "      <th>14</th>\n",
       "      <th>15</th>\n",
       "      <th>16</th>\n",
       "      <th>17</th>\n",
       "      <th>18</th>\n",
       "      <th>19</th>\n",
       "      <th>20</th>\n",
       "    </tr>\n",
       "  </thead>\n",
       "  <tbody>\n",
       "    <tr>\n",
       "      <th>0</th>\n",
       "      <td>p</td>\n",
       "      <td>15.26</td>\n",
       "      <td>x</td>\n",
       "      <td>g</td>\n",
       "      <td>o</td>\n",
       "      <td>f</td>\n",
       "      <td>e</td>\n",
       "      <td></td>\n",
       "      <td>w</td>\n",
       "      <td>16.95</td>\n",
       "      <td>...</td>\n",
       "      <td>s</td>\n",
       "      <td>y</td>\n",
       "      <td>w</td>\n",
       "      <td>u</td>\n",
       "      <td>w</td>\n",
       "      <td>t</td>\n",
       "      <td>g</td>\n",
       "      <td></td>\n",
       "      <td>d</td>\n",
       "      <td>w</td>\n",
       "    </tr>\n",
       "    <tr>\n",
       "      <th>1</th>\n",
       "      <td>p</td>\n",
       "      <td>16.6</td>\n",
       "      <td>x</td>\n",
       "      <td>g</td>\n",
       "      <td>o</td>\n",
       "      <td>f</td>\n",
       "      <td>e</td>\n",
       "      <td></td>\n",
       "      <td>w</td>\n",
       "      <td>17.99</td>\n",
       "      <td>...</td>\n",
       "      <td>s</td>\n",
       "      <td>y</td>\n",
       "      <td>w</td>\n",
       "      <td>u</td>\n",
       "      <td>w</td>\n",
       "      <td>t</td>\n",
       "      <td>g</td>\n",
       "      <td></td>\n",
       "      <td>d</td>\n",
       "      <td>u</td>\n",
       "    </tr>\n",
       "    <tr>\n",
       "      <th>2</th>\n",
       "      <td>p</td>\n",
       "      <td>14.07</td>\n",
       "      <td>x</td>\n",
       "      <td>g</td>\n",
       "      <td>o</td>\n",
       "      <td>f</td>\n",
       "      <td>e</td>\n",
       "      <td></td>\n",
       "      <td>w</td>\n",
       "      <td>17.8</td>\n",
       "      <td>...</td>\n",
       "      <td>s</td>\n",
       "      <td>y</td>\n",
       "      <td>w</td>\n",
       "      <td>u</td>\n",
       "      <td>w</td>\n",
       "      <td>t</td>\n",
       "      <td>g</td>\n",
       "      <td></td>\n",
       "      <td>d</td>\n",
       "      <td>w</td>\n",
       "    </tr>\n",
       "    <tr>\n",
       "      <th>3</th>\n",
       "      <td>p</td>\n",
       "      <td>14.17</td>\n",
       "      <td>f</td>\n",
       "      <td>h</td>\n",
       "      <td>e</td>\n",
       "      <td>f</td>\n",
       "      <td>e</td>\n",
       "      <td></td>\n",
       "      <td>w</td>\n",
       "      <td>15.77</td>\n",
       "      <td>...</td>\n",
       "      <td>s</td>\n",
       "      <td>y</td>\n",
       "      <td>w</td>\n",
       "      <td>u</td>\n",
       "      <td>w</td>\n",
       "      <td>t</td>\n",
       "      <td>p</td>\n",
       "      <td></td>\n",
       "      <td>d</td>\n",
       "      <td>w</td>\n",
       "    </tr>\n",
       "    <tr>\n",
       "      <th>4</th>\n",
       "      <td>p</td>\n",
       "      <td>14.64</td>\n",
       "      <td>x</td>\n",
       "      <td>h</td>\n",
       "      <td>o</td>\n",
       "      <td>f</td>\n",
       "      <td>e</td>\n",
       "      <td></td>\n",
       "      <td>w</td>\n",
       "      <td>16.53</td>\n",
       "      <td>...</td>\n",
       "      <td>s</td>\n",
       "      <td>y</td>\n",
       "      <td>w</td>\n",
       "      <td>u</td>\n",
       "      <td>w</td>\n",
       "      <td>t</td>\n",
       "      <td>p</td>\n",
       "      <td></td>\n",
       "      <td>d</td>\n",
       "      <td>w</td>\n",
       "    </tr>\n",
       "  </tbody>\n",
       "</table>\n",
       "<p>5 rows × 21 columns</p>\n",
       "</div>"
      ],
      "text/plain": [
       "  0      1  2  3  4  5  6  7  8      9   ... 11 12 13 14 15 16 17 18 19 20\n",
       "0  p  15.26  x  g  o  f  e     w  16.95  ...  s  y  w  u  w  t  g     d  w\n",
       "1  p   16.6  x  g  o  f  e     w  17.99  ...  s  y  w  u  w  t  g     d  u\n",
       "2  p  14.07  x  g  o  f  e     w   17.8  ...  s  y  w  u  w  t  g     d  w\n",
       "3  p  14.17  f  h  e  f  e     w  15.77  ...  s  y  w  u  w  t  p     d  w\n",
       "4  p  14.64  x  h  o  f  e     w  16.53  ...  s  y  w  u  w  t  p     d  w\n",
       "\n",
       "[5 rows x 21 columns]"
      ]
     },
     "execution_count": 141,
     "metadata": {},
     "output_type": "execute_result"
    }
   ],
   "source": [
    "# Splitting columns\n",
    "df = df.iloc[:, 0].str.split(';', expand = True)\n",
    "df.head()"
   ]
  },
  {
   "cell_type": "code",
   "execution_count": 142,
   "id": "9a661b3e",
   "metadata": {},
   "outputs": [],
   "source": [
    "# Changing column names to match those specified in the data dictionary\n",
    "df.columns = ['class', 'cap_diameter', 'cap_shape', 'cap_surface', 'cap_color', 'does_bruise_or_bleed', \n",
    "              'gill_attachment', 'gill_spacing', 'gill_color', 'stem_height', 'stem_width', 'stem_root',\n",
    "             'stem_surface', 'stem_color', 'veil_type', 'veil_color', 'has_ring', 'ring_type', 'spore_print_color',\n",
    "             'habitat', 'season']"
   ]
  },
  {
   "cell_type": "code",
   "execution_count": 143,
   "id": "604e8995",
   "metadata": {},
   "outputs": [
    {
     "data": {
      "text/plain": [
       "class                   0\n",
       "cap_diameter            0\n",
       "cap_shape               0\n",
       "cap_surface             0\n",
       "cap_color               0\n",
       "does_bruise_or_bleed    0\n",
       "gill_attachment         0\n",
       "gill_spacing            0\n",
       "gill_color              0\n",
       "stem_height             0\n",
       "stem_width              0\n",
       "stem_root               0\n",
       "stem_surface            0\n",
       "stem_color              0\n",
       "veil_type               0\n",
       "veil_color              0\n",
       "has_ring                0\n",
       "ring_type               0\n",
       "spore_print_color       0\n",
       "habitat                 0\n",
       "season                  0\n",
       "dtype: int64"
      ]
     },
     "execution_count": 143,
     "metadata": {},
     "output_type": "execute_result"
    }
   ],
   "source": [
    "# Checking for null values\n",
    "df.isnull().sum()"
   ]
  },
  {
   "cell_type": "code",
   "execution_count": 144,
   "id": "24e86b97",
   "metadata": {},
   "outputs": [
    {
     "name": "stdout",
     "output_type": "stream",
     "text": [
      "<class 'pandas.core.frame.DataFrame'>\n",
      "RangeIndex: 61069 entries, 0 to 61068\n",
      "Data columns (total 21 columns):\n",
      " #   Column                Non-Null Count  Dtype \n",
      "---  ------                --------------  ----- \n",
      " 0   class                 61069 non-null  object\n",
      " 1   cap_diameter          61069 non-null  object\n",
      " 2   cap_shape             61069 non-null  object\n",
      " 3   cap_surface           61069 non-null  object\n",
      " 4   cap_color             61069 non-null  object\n",
      " 5   does_bruise_or_bleed  61069 non-null  object\n",
      " 6   gill_attachment       61069 non-null  object\n",
      " 7   gill_spacing          61069 non-null  object\n",
      " 8   gill_color            61069 non-null  object\n",
      " 9   stem_height           61069 non-null  object\n",
      " 10  stem_width            61069 non-null  object\n",
      " 11  stem_root             61069 non-null  object\n",
      " 12  stem_surface          61069 non-null  object\n",
      " 13  stem_color            61069 non-null  object\n",
      " 14  veil_type             61069 non-null  object\n",
      " 15  veil_color            61069 non-null  object\n",
      " 16  has_ring              61069 non-null  object\n",
      " 17  ring_type             61069 non-null  object\n",
      " 18  spore_print_color     61069 non-null  object\n",
      " 19  habitat               61069 non-null  object\n",
      " 20  season                61069 non-null  object\n",
      "dtypes: object(21)\n",
      "memory usage: 9.8+ MB\n"
     ]
    }
   ],
   "source": [
    "df.info()"
   ]
  },
  {
   "cell_type": "markdown",
   "id": "7562d8d1",
   "metadata": {},
   "source": [
    "Excluding the target variable (class), there are 3 continuous variables and 17 categorical / nominal variables. As such, I'll be changing the types of the continuous variables from objects to floats."
   ]
  },
  {
   "cell_type": "code",
   "execution_count": 145,
   "id": "ad43cd77",
   "metadata": {},
   "outputs": [],
   "source": [
    "# Separate columns for continuous and categorical variables \n",
    "cat_col = ['class', 'cap_shape', 'cap_surface', 'cap_color', 'does_bruise_or_bleed', 'gill_attachment', \n",
    "           'gill_spacing', 'gill_color', 'stem_root', 'stem_surface', 'stem_color', 'veil_type', 'veil_color', \n",
    "           'has_ring', 'ring_type', 'spore_print_color', 'habitat', 'season']\n",
    "cont_col = ['cap_diameter', 'stem_height', 'stem_width']"
   ]
  },
  {
   "cell_type": "code",
   "execution_count": 146,
   "id": "310372f9",
   "metadata": {},
   "outputs": [],
   "source": [
    "for col in cont_col:\n",
    "    df[col] = pd.to_numeric(df[col])"
   ]
  },
  {
   "cell_type": "code",
   "execution_count": 147,
   "id": "6b79a922",
   "metadata": {},
   "outputs": [],
   "source": [
    "# Converting target column (class) to numeric representation\n",
    "df['class'] = df['class'].apply(lambda x: 1 if x == 'p' else 0)"
   ]
  },
  {
   "cell_type": "markdown",
   "id": "444ff299",
   "metadata": {},
   "source": [
    "# Exploratory Data Analysis"
   ]
  },
  {
   "cell_type": "markdown",
   "id": "14fa9dcd",
   "metadata": {},
   "source": [
    "### Analyzing Column Distributions"
   ]
  },
  {
   "cell_type": "markdown",
   "id": "3e6926e1",
   "metadata": {},
   "source": [
    "I'll be analyzing continuous and categorical variable distributions separately."
   ]
  },
  {
   "cell_type": "code",
   "execution_count": 148,
   "id": "38df20f0",
   "metadata": {},
   "outputs": [
    {
     "name": "stdout",
     "output_type": "stream",
     "text": [
      "1    0.554913\n",
      "0    0.445087\n",
      "Name: class, dtype: float64\n",
      "\n",
      "x    0.441042\n",
      "f    0.219489\n",
      "s    0.117310\n",
      "b    0.093239\n",
      "o    0.056657\n",
      "p    0.042542\n",
      "c    0.029720\n",
      "Name: cap_shape, dtype: float64\n",
      "\n",
      "     0.231214\n",
      "t    0.134209\n",
      "s    0.124580\n",
      "y    0.103833\n",
      "h    0.081449\n",
      "g    0.077355\n",
      "d    0.072574\n",
      "e    0.042313\n",
      "k    0.037711\n",
      "i    0.036434\n",
      "w    0.035206\n",
      "l    0.023121\n",
      "Name: cap_surface, dtype: float64\n",
      "\n",
      "n    0.396568\n",
      "y    0.139891\n",
      "w    0.125530\n",
      "g    0.072377\n",
      "e    0.066073\n",
      "o    0.059867\n",
      "r    0.029180\n",
      "u    0.027985\n",
      "p    0.027886\n",
      "k    0.020944\n",
      "b    0.020141\n",
      "l    0.013558\n",
      "Name: cap_color, dtype: float64\n",
      "\n",
      "f    0.82659\n",
      "t    0.17341\n",
      "Name: does_bruise_or_bleed, dtype: float64\n",
      "\n",
      "a    0.207929\n",
      "d    0.167794\n",
      "     0.161850\n",
      "x    0.121387\n",
      "p    0.098266\n",
      "e    0.092486\n",
      "s    0.092486\n",
      "f    0.057803\n",
      "Name: gill_attachment, dtype: float64\n",
      "\n",
      "     0.410405\n",
      "c    0.404624\n",
      "d    0.127168\n",
      "f    0.057803\n",
      "Name: gill_spacing, dtype: float64\n",
      "\n",
      "w    0.303280\n",
      "n    0.157936\n",
      "y    0.156315\n",
      "p    0.097971\n",
      "g    0.067432\n",
      "f    0.057803\n",
      "o    0.047635\n",
      "k    0.038890\n",
      "r    0.022909\n",
      "e    0.017456\n",
      "u    0.016752\n",
      "b    0.015622\n",
      "Name: gill_color, dtype: float64\n",
      "\n",
      "     0.843931\n",
      "s    0.052023\n",
      "b    0.052023\n",
      "r    0.023121\n",
      "f    0.017341\n",
      "c    0.011561\n",
      "Name: stem_root, dtype: float64\n",
      "\n",
      "     0.624277\n",
      "s    0.098659\n",
      "y    0.080892\n",
      "i    0.071984\n",
      "t    0.043295\n",
      "g    0.028902\n",
      "k    0.025889\n",
      "f    0.017341\n",
      "h    0.008761\n",
      "Name: stem_surface, dtype: float64\n",
      "\n",
      "w    0.375411\n",
      "n    0.295780\n",
      "y    0.128789\n",
      "g    0.043001\n",
      "o    0.035812\n",
      "e    0.033569\n",
      "u    0.024399\n",
      "f    0.017341\n",
      "p    0.016784\n",
      "k    0.013706\n",
      "r    0.008875\n",
      "l    0.003701\n",
      "b    0.002833\n",
      "Name: stem_color, dtype: float64\n",
      "\n",
      "     0.947977\n",
      "u    0.052023\n",
      "Name: veil_type, dtype: float64\n",
      "\n",
      "     0.878613\n",
      "w    0.089636\n",
      "y    0.008630\n",
      "n    0.008597\n",
      "u    0.005780\n",
      "k    0.005780\n",
      "e    0.002964\n",
      "Name: veil_color, dtype: float64\n",
      "\n",
      "f    0.751445\n",
      "t    0.248555\n",
      "Name: has_ring, dtype: float64\n",
      "\n",
      "f    0.791908\n",
      "     0.040462\n",
      "e    0.039873\n",
      "z    0.034682\n",
      "l    0.023367\n",
      "r    0.022909\n",
      "p    0.020714\n",
      "g    0.020305\n",
      "m    0.005780\n",
      "Name: ring_type, dtype: float64\n",
      "\n",
      "     0.895954\n",
      "k    0.034682\n",
      "p    0.020616\n",
      "w    0.019846\n",
      "n    0.017341\n",
      "g    0.005780\n",
      "u    0.002980\n",
      "r    0.002800\n",
      "Name: spore_print_color, dtype: float64\n",
      "\n",
      "d    0.723919\n",
      "g    0.130066\n",
      "l    0.051876\n",
      "m    0.047815\n",
      "h    0.032766\n",
      "p    0.005895\n",
      "w    0.005780\n",
      "u    0.001883\n",
      "Name: habitat, dtype: float64\n",
      "\n",
      "a    0.494146\n",
      "u    0.374953\n",
      "w    0.086247\n",
      "s    0.044654\n",
      "Name: season, dtype: float64\n",
      "\n"
     ]
    }
   ],
   "source": [
    "# Evaluating distributions of each categorical variable via proportions per type\n",
    "for col in cat_col:\n",
    "    print(f'{df[col].value_counts(normalize = True)}\\n')"
   ]
  },
  {
   "cell_type": "markdown",
   "id": "50ecc911",
   "metadata": {},
   "source": [
    "**Observations**\n",
    "- Relatively balanced classes between poisonous and edible mushrooms.\n",
    "- Large majority of mushrooms have a convex (x) cap shape (44%).\n",
    "- Cap surfaces have a majority category (23%) with no cap surface type specified. Upon further investigation into the study discussing this dataset, these cap surfaces are unknown. \n",
    "- Large majority of mushroom cap colors (39%) are brown (n).\n",
    "- Most mushrooms don't bruise or bleed (82%).\n",
    "- Gill attachments have a category (16%) with gill attachment type specified. Upon further investigation into the study discussing this dataset, these types are unknown. \n",
    "- The same will be done as above with cap surfaces and gill attachments for the unknown gill spacing type. These unknowns, alongside close gill spacings, constitute roughly 81% of the mushrooms in the dataset.\n",
    "- Majority of gill colors (30%) are white.\n",
    "- Majority of stem root shapes (84%) are unknown. A decision on whether or not to drop this variable entirely due to this will be made based on correlation evaluations performed later in this notebook.\n",
    "- Majority of stem surfaces (62%) are of either dry or leathery nature.\n",
    "- White and brown stem mushrooms constitute 66% of the mushrooms.\n",
    "- A large majority of mushrooms (94%) have an unspecified veil type.\n",
    "- A large majority of mushrooms (87%) have an unknown veil color.\n",
    "- Most mushrooms don't have a ring (75%)\n",
    "- Most mushrooms have an unknown spore print color (89%)\n",
    "- A large majority of mushrooms grow in the woods (72%)\n",
    "- Most mushrooms can be found / grown during autumn and winter seasons (87%)"
   ]
  },
  {
   "cell_type": "markdown",
   "id": "9415281f",
   "metadata": {},
   "source": [
    "Many of the categorical columns have unknown categories. While I may be able to build a high-performing model in regards to metrics (i.e. accuracy and sensitivity), it may be challenging to develop meaningful findings in a practical context without incorporating further domain knowledge for imputation purposes."
   ]
  },
  {
   "cell_type": "code",
   "execution_count": 125,
   "id": "93414dce",
   "metadata": {},
   "outputs": [
    {
     "name": "stdout",
     "output_type": "stream",
     "text": [
      "count    61069.000000\n",
      "mean         6.733854\n",
      "std          5.264845\n",
      "min          0.380000\n",
      "25%          3.480000\n",
      "50%          5.860000\n",
      "75%          8.540000\n",
      "max         62.340000\n",
      "Name: cap_diameter, dtype: float64\n",
      "\n",
      "count    61069.000000\n",
      "mean         6.581538\n",
      "std          3.370017\n",
      "min          0.000000\n",
      "25%          4.640000\n",
      "50%          5.950000\n",
      "75%          7.740000\n",
      "max         33.920000\n",
      "Name: stem_height, dtype: float64\n",
      "\n",
      "count    61069.000000\n",
      "mean        12.149410\n",
      "std         10.035955\n",
      "min          0.000000\n",
      "25%          5.210000\n",
      "50%         10.190000\n",
      "75%         16.570000\n",
      "max        103.910000\n",
      "Name: stem_width, dtype: float64\n",
      "\n"
     ]
    }
   ],
   "source": [
    "# Evaluating distributions of each continuous variable via statistics\n",
    "for col in cont_col:\n",
    "    print(f'{df[col].describe()}\\n')"
   ]
  },
  {
   "cell_type": "code",
   "execution_count": 126,
   "id": "43fb3ccf",
   "metadata": {},
   "outputs": [
    {
     "data": {
      "image/png": "[encoded data removed]",
      "text/plain": [
       "<Figure size 1152x432 with 3 Axes>"
      ]
     },
     "metadata": {
      "needs_background": "light"
     },
     "output_type": "display_data"
    }
   ],
   "source": [
    "# Evaluating distributions of each continuous variable via histograms\n",
    "fig, ax = plt.subplots(figsize = (16, 6), nrows = 1, ncols = 3, constrained_layout = True)\n",
    "for i, col in enumerate(cont_col):\n",
    "    ax[i].hist(df[col])\n",
    "    ax[i].set_title(f'Freq. Distribution of {col}')\n",
    "    ax[i].set_ylabel('Frequency')\n",
    "    ax[i].set_xlabel(f'{col}')"
   ]
  },
  {
   "cell_type": "markdown",
   "id": "e0e07c0d",
   "metadata": {},
   "source": [
    "**Observations**\n",
    "- There are some outliers for cap diameters, ranging from roughly 45-55 cm. The cap diameter distribution is right skewed as well, with a vast majority of mushrooms having between 0-10 cm cap diameters.\n",
    "- The stem height distribution is very roughly normally distributed\n",
    "- The stem width distribution is right skewed as well, with outliers present (103 mm). \n",
    "- Continuous variables are on different scales (cap diameter and stem height are measured in cm, while stem width is measured in mm)"
   ]
  },
  {
   "cell_type": "markdown",
   "id": "9e892e81",
   "metadata": {},
   "source": [
    "### Analyzing Correlations "
   ]
  },
  {
   "cell_type": "markdown",
   "id": "b2132338",
   "metadata": {},
   "source": [
    "The goal here is to provide additional support to any findings developed from my classification and clustering models as well as identify any sources of multicollinearity."
   ]
  },
  {
   "cell_type": "code",
   "execution_count": 127,
   "id": "e1f37380",
   "metadata": {},
   "outputs": [
    {
     "data": {
      "text/html": [
       "<div>\n",
       "<style scoped>\n",
       "    .dataframe tbody tr th:only-of-type {\n",
       "        vertical-align: middle;\n",
       "    }\n",
       "\n",
       "    .dataframe tbody tr th {\n",
       "        vertical-align: top;\n",
       "    }\n",
       "\n",
       "    .dataframe thead th {\n",
       "        text-align: right;\n",
       "    }\n",
       "</style>\n",
       "<table border=\"1\" class=\"dataframe\">\n",
       "  <thead>\n",
       "    <tr style=\"text-align: right;\">\n",
       "      <th></th>\n",
       "      <th>class</th>\n",
       "      <th>cap_diameter</th>\n",
       "      <th>stem_height</th>\n",
       "      <th>stem_width</th>\n",
       "    </tr>\n",
       "  </thead>\n",
       "  <tbody>\n",
       "    <tr>\n",
       "      <th>class</th>\n",
       "      <td>1.000000</td>\n",
       "      <td>-0.181139</td>\n",
       "      <td>-0.121593</td>\n",
       "      <td>-0.197368</td>\n",
       "    </tr>\n",
       "    <tr>\n",
       "      <th>cap_diameter</th>\n",
       "      <td>-0.181139</td>\n",
       "      <td>1.000000</td>\n",
       "      <td>0.422560</td>\n",
       "      <td>0.695330</td>\n",
       "    </tr>\n",
       "    <tr>\n",
       "      <th>stem_height</th>\n",
       "      <td>-0.121593</td>\n",
       "      <td>0.422560</td>\n",
       "      <td>1.000000</td>\n",
       "      <td>0.436117</td>\n",
       "    </tr>\n",
       "    <tr>\n",
       "      <th>stem_width</th>\n",
       "      <td>-0.197368</td>\n",
       "      <td>0.695330</td>\n",
       "      <td>0.436117</td>\n",
       "      <td>1.000000</td>\n",
       "    </tr>\n",
       "  </tbody>\n",
       "</table>\n",
       "</div>"
      ],
      "text/plain": [
       "                 class  cap_diameter  stem_height  stem_width\n",
       "class         1.000000     -0.181139    -0.121593   -0.197368\n",
       "cap_diameter -0.181139      1.000000     0.422560    0.695330\n",
       "stem_height  -0.121593      0.422560     1.000000    0.436117\n",
       "stem_width   -0.197368      0.695330     0.436117    1.000000"
      ]
     },
     "execution_count": 127,
     "metadata": {},
     "output_type": "execute_result"
    }
   ],
   "source": [
    "# Evaluating correlations between continuous features via Pearson Coefficient\n",
    "df.corr()"
   ]
  },
  {
   "cell_type": "markdown",
   "id": "6545db8f",
   "metadata": {},
   "source": [
    "It appears the stem width and cap diameter are strongly correlated (~70%)."
   ]
  },
  {
   "cell_type": "code",
   "execution_count": 128,
   "id": "fee86377",
   "metadata": {},
   "outputs": [
    {
     "name": "stdout",
     "output_type": "stream",
     "text": [
      "PointbiserialrResult(correlation=-0.1811392638047386, pvalue=0.0)\n",
      "PointbiserialrResult(correlation=-0.12159303061828186, pvalue=8.030231152082958e-200)\n",
      "PointbiserialrResult(correlation=-0.19736751565538865, pvalue=0.0)\n"
     ]
    }
   ],
   "source": [
    "# Evaluating correlations between continuous features and target (class) via Point Biserial Correlation\n",
    "for col in cont_col:\n",
    "    print(ss.pointbiserialr(df[col], df['class']))"
   ]
  },
  {
   "cell_type": "markdown",
   "id": "7e3bde31",
   "metadata": {},
   "source": [
    "There appears to be minimal correlation between the cap diameter, stem height, and stem width with the edibility of the mushroom."
   ]
  },
  {
   "cell_type": "markdown",
   "id": "5d3ea84d",
   "metadata": {},
   "source": [
    "The code used below is based on https://www.kaggle.com/code/shakedzy/alone-in-the-woods-using-theil-s-u-for-survival/notebook."
   ]
  },
  {
   "cell_type": "code",
   "execution_count": 129,
   "id": "8fe04a93",
   "metadata": {},
   "outputs": [],
   "source": [
    "# Evaluating correlations between categorical variables and target (class) via Uncertainty Coefficient (Theil's U)\n",
    "def conditional_entropy(x,y):\n",
    "    # entropy of x given y\n",
    "    y_counter = Counter(y)\n",
    "    xy_counter = Counter(list(zip(x,y)))\n",
    "    total_occurrences = sum(y_counter.values())\n",
    "    entropy = 0\n",
    "    for xy in xy_counter.keys():\n",
    "        p_xy = xy_counter[xy] / total_occurrences\n",
    "        p_y = y_counter[xy[1]] / total_occurrences\n",
    "        entropy += p_xy * math.log(p_y/p_xy)\n",
    "    return entropy\n",
    "\n",
    "def theil_u(x,y):\n",
    "    s_xy = conditional_entropy(x,y)\n",
    "    x_counter = Counter(x)\n",
    "    total_occurrences = sum(x_counter.values())\n",
    "    p_x = list(map(lambda n: n/total_occurrences, x_counter.values()))\n",
    "    s_x = ss.entropy(p_x)\n",
    "    if s_x == 0:\n",
    "        return 1\n",
    "    else:\n",
    "        return (s_x - s_xy) / s_x"
   ]
  },
  {
   "cell_type": "code",
   "execution_count": 130,
   "id": "80298f8a",
   "metadata": {},
   "outputs": [
    {
     "data": {
      "image/png": "[encoded data removed]",
      "text/plain": [
       "<Figure size 1440x72 with 2 Axes>"
      ]
     },
     "metadata": {
      "needs_background": "light"
     },
     "output_type": "display_data"
    }
   ],
   "source": [
    "cat_df = df[cat_col]\n",
    "theilu = pd.DataFrame(index = ['class'], columns = cat_df.columns)\n",
    "for i in range(0, len(cat_df.columns)):\n",
    "    theilu.loc[:, cat_df.columns[i]] = theil_u(cat_df['class'].tolist(), cat_df[cat_df.columns[i]].tolist())\n",
    "plt.figure(figsize = (20,1))\n",
    "sns.heatmap(theilu, annot = True, fmt = '.2f')\n",
    "plt.show()"
   ]
  },
  {
   "cell_type": "markdown",
   "id": "6e6d7fd3",
   "metadata": {},
   "source": [
    "There doesn't appear to be any categorical variables that are strongly correlated with mushroom edibility. However, upon further research based on the notebook above, odor appears to be a significant indicator of mushroom edibility, with a 91% correlation. In addition, amongst odorless mushrooms, if it's spore color is not green, it's edible. If it's white, the results are unclear."
   ]
  },
  {
   "cell_type": "code",
   "execution_count": 131,
   "id": "381a8704",
   "metadata": {},
   "outputs": [],
   "source": [
    "# Saving cleaned dataset\n",
    "df.to_csv('../data/cleaned_data_1.csv')"
   ]
  },
  {
   "cell_type": "markdown",
   "id": "702c5fcc",
   "metadata": {},
   "source": [
    "# Summary of Findings "
   ]
  },
  {
   "cell_type": "markdown",
   "id": "44ad3b47",
   "metadata": {},
   "source": [
    "- Many unknown types per categorical variable which deteriorates strength of interpretability\n",
    "- Most mushrooms have shared characteristics (i.e. convex cape shape, brown, don’t bruise or bleed, white gill colors, dry/leathery stem surfaces, have white/brown stems, lack a ring, grow in the woods, mushrooms can be found / grown during autumn and winter seasons)\n",
    "- Skewed distributions across many continuous variables with different scales, which will inform model selection process\n",
    "- Multicollinearity between stem width and cap diameter\n",
    "- Minimal correlation between both continuous and categorical variables vs. target (class)\n",
    "- Odor appears to be a significant indicator of mushroom edibility\n",
    "    - For odorless mushrooms, if it's spore color is not green, it's edible. If it's white, the results are unclear."
   ]
  }
 ],
 "metadata": {
  "kernelspec": {
   "display_name": "Python 3 (ipykernel)",
   "language": "python",
   "name": "python3"
  },
  "language_info": {
   "codemirror_mode": {
    "name": "ipython",
    "version": 3
   },
   "file_extension": ".py",
   "mimetype": "text/x-python",
   "name": "python",
   "nbconvert_exporter": "python",
   "pygments_lexer": "ipython3",
   "version": "3.9.12"
  }
 },
 "nbformat": 4,
 "nbformat_minor": 5
}
